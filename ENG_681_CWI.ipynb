{
  "nbformat": 4,
  "nbformat_minor": 0,
  "metadata": {
    "colab": {
      "name": "ENG_681_CWI.ipynb",
      "provenance": [],
      "collapsed_sections": []
    },
    "kernelspec": {
      "name": "python3",
      "display_name": "Python 3"
    },
    "language_info": {
      "name": "python"
    }
  },
  "cells": [
    {
      "cell_type": "markdown",
      "metadata": {
        "id": "-TYlMsPMcMef"
      },
      "source": [
        "\n",
        "Hai-Yen Nguyen, Skye Morgan, Austin Simmons"
      ]
    },
    {
      "cell_type": "markdown",
      "metadata": {
        "id": "Yi4zV5w0fHBV"
      },
      "source": [
        "## Import Libraries"
      ]
    },
    {
      "cell_type": "code",
      "metadata": {
        "id": "uJPhpVNfclRu"
      },
      "source": [
        "import numpy as np # linear algebra\n",
        "import pandas as pd # data processing, CSV file I/O (e.g. pd.read_csv)\n",
        "from matplotlib import pyplot as plt \n",
        "import nltk\n",
        "from nltk.corpus import stopwords\n",
        "from nltk.stem import SnowballStemmer\n",
        "import re\n",
        "from string import punctuation\n",
        "from sklearn.metrics import classification_report, confusion_matrix\n",
        "import spacy\n",
        "import re"
      ],
      "execution_count": null,
      "outputs": []
    },
    {
      "cell_type": "code",
      "metadata": {
        "id": "zhZYETKikDlK"
      },
      "source": [
        "np.random.seed(7)"
      ],
      "execution_count": null,
      "outputs": []
    },
    {
      "cell_type": "markdown",
      "metadata": {
        "id": "ZTUp4eQPfP95"
      },
      "source": [
        "## Data Preprocessing"
      ]
    },
    {
      "cell_type": "code",
      "metadata": {
        "id": "b9GOdvWYpl02"
      },
      "source": [
        "#Read the training & Test dataset using Pandas\n",
        "\n",
        "training = pd.read_csv(\"hasoc_train.csv\")\n",
        "test = pd.read_csv(\"hasoc_test.csv\")"
      ],
      "execution_count": null,
      "outputs": []
    },
    {
      "cell_type": "code",
      "metadata": {
        "id": "JWu02EDG46bL",
        "colab": {
          "base_uri": "https://localhost:8080/",
          "height": 241
        },
        "outputId": "ef06c65c-566b-44dd-d589-ad1165b0cf45"
      },
      "source": [
        "#Recode labels for Training task_1 to numeric\n",
        "cleanup_nums = {\"task_1\": {\"HOF\": 1, \"NOT\": 0}}\n",
        "training = training.replace(cleanup_nums)\n",
        "training.head()"
      ],
      "execution_count": null,
      "outputs": [
        {
          "output_type": "execute_result",
          "data": {
            "text/html": [
              "<div>\n",
              "<style scoped>\n",
              "    .dataframe tbody tr th:only-of-type {\n",
              "        vertical-align: middle;\n",
              "    }\n",
              "\n",
              "    .dataframe tbody tr th {\n",
              "        vertical-align: top;\n",
              "    }\n",
              "\n",
              "    .dataframe thead th {\n",
              "        text-align: right;\n",
              "    }\n",
              "</style>\n",
              "<table border=\"1\" class=\"dataframe\">\n",
              "  <thead>\n",
              "    <tr style=\"text-align: right;\">\n",
              "      <th></th>\n",
              "      <th>text_id</th>\n",
              "      <th>text</th>\n",
              "      <th>task_1</th>\n",
              "      <th>task_2</th>\n",
              "      <th>task_3</th>\n",
              "    </tr>\n",
              "  </thead>\n",
              "  <tbody>\n",
              "    <tr>\n",
              "      <th>0</th>\n",
              "      <td>hasoc_en_1</td>\n",
              "      <td>#DhoniKeepsTheGlove | WATCH: Sports Minister K...</td>\n",
              "      <td>0</td>\n",
              "      <td>NONE</td>\n",
              "      <td>NONE</td>\n",
              "    </tr>\n",
              "    <tr>\n",
              "      <th>1</th>\n",
              "      <td>hasoc_en_2</td>\n",
              "      <td>@politico No. We should remember very clearly ...</td>\n",
              "      <td>1</td>\n",
              "      <td>HATE</td>\n",
              "      <td>TIN</td>\n",
              "    </tr>\n",
              "    <tr>\n",
              "      <th>2</th>\n",
              "      <td>hasoc_en_3</td>\n",
              "      <td>@cricketworldcup Guess who would be the winner...</td>\n",
              "      <td>0</td>\n",
              "      <td>NONE</td>\n",
              "      <td>NONE</td>\n",
              "    </tr>\n",
              "    <tr>\n",
              "      <th>3</th>\n",
              "      <td>hasoc_en_4</td>\n",
              "      <td>Corbyn is too politically intellectual for #Bo...</td>\n",
              "      <td>0</td>\n",
              "      <td>NONE</td>\n",
              "      <td>NONE</td>\n",
              "    </tr>\n",
              "    <tr>\n",
              "      <th>4</th>\n",
              "      <td>hasoc_en_5</td>\n",
              "      <td>All the best to #TeamIndia for another swimmin...</td>\n",
              "      <td>0</td>\n",
              "      <td>NONE</td>\n",
              "      <td>NONE</td>\n",
              "    </tr>\n",
              "  </tbody>\n",
              "</table>\n",
              "</div>"
            ],
            "text/plain": [
              "      text_id                                               text  ...  task_2 task_3\n",
              "0  hasoc_en_1  #DhoniKeepsTheGlove | WATCH: Sports Minister K...  ...    NONE   NONE\n",
              "1  hasoc_en_2  @politico No. We should remember very clearly ...  ...    HATE    TIN\n",
              "2  hasoc_en_3  @cricketworldcup Guess who would be the winner...  ...    NONE   NONE\n",
              "3  hasoc_en_4  Corbyn is too politically intellectual for #Bo...  ...    NONE   NONE\n",
              "4  hasoc_en_5  All the best to #TeamIndia for another swimmin...  ...    NONE   NONE\n",
              "\n",
              "[5 rows x 5 columns]"
            ]
          },
          "metadata": {
            "tags": []
          },
          "execution_count": 4
        }
      ]
    },
    {
      "cell_type": "code",
      "metadata": {
        "id": "Ip1QwWEN5M_l",
        "colab": {
          "base_uri": "https://localhost:8080/",
          "height": 223
        },
        "outputId": "b3dd657f-62fa-42ba-d4ea-ad819b52855d"
      },
      "source": [
        "#Recode labels for Test SubtaskA to numeric\n",
        "cleanup_nums2 = {\"task_1\": {\"HOF\": 1, \"NOT\": 0}}\n",
        "test = test.replace(cleanup_nums2)\n",
        "test.head()"
      ],
      "execution_count": null,
      "outputs": [
        {
          "output_type": "execute_result",
          "data": {
            "text/html": [
              "<div>\n",
              "<style scoped>\n",
              "    .dataframe tbody tr th:only-of-type {\n",
              "        vertical-align: middle;\n",
              "    }\n",
              "\n",
              "    .dataframe tbody tr th {\n",
              "        vertical-align: top;\n",
              "    }\n",
              "\n",
              "    .dataframe thead th {\n",
              "        text-align: right;\n",
              "    }\n",
              "</style>\n",
              "<table border=\"1\" class=\"dataframe\">\n",
              "  <thead>\n",
              "    <tr style=\"text-align: right;\">\n",
              "      <th></th>\n",
              "      <th>text_id</th>\n",
              "      <th>text</th>\n",
              "      <th>task_1</th>\n",
              "      <th>task_2</th>\n",
              "      <th>task_3</th>\n",
              "    </tr>\n",
              "  </thead>\n",
              "  <tbody>\n",
              "    <tr>\n",
              "      <th>0</th>\n",
              "      <td>hasoc_en_902</td>\n",
              "      <td>West Bengal Doctor Crisis: Protesting doctors ...</td>\n",
              "      <td>0</td>\n",
              "      <td>NONE</td>\n",
              "      <td>NONE</td>\n",
              "    </tr>\n",
              "    <tr>\n",
              "      <th>1</th>\n",
              "      <td>hasoc_en_416</td>\n",
              "      <td>68.5 million people have been forced to leave ...</td>\n",
              "      <td>0</td>\n",
              "      <td>NONE</td>\n",
              "      <td>NONE</td>\n",
              "    </tr>\n",
              "    <tr>\n",
              "      <th>2</th>\n",
              "      <td>hasoc_en_207</td>\n",
              "      <td>You came, you saw .... we will look after the ...</td>\n",
              "      <td>0</td>\n",
              "      <td>NONE</td>\n",
              "      <td>NONE</td>\n",
              "    </tr>\n",
              "    <tr>\n",
              "      <th>3</th>\n",
              "      <td>hasoc_en_595</td>\n",
              "      <td>We'll get Brexit delivered by October 31st.   ...</td>\n",
              "      <td>0</td>\n",
              "      <td>NONE</td>\n",
              "      <td>NONE</td>\n",
              "    </tr>\n",
              "    <tr>\n",
              "      <th>4</th>\n",
              "      <td>hasoc_en_568</td>\n",
              "      <td>Fuck you. Go back to the dark ages you cow @IB...</td>\n",
              "      <td>1</td>\n",
              "      <td>PRFN</td>\n",
              "      <td>UNT</td>\n",
              "    </tr>\n",
              "  </tbody>\n",
              "</table>\n",
              "</div>"
            ],
            "text/plain": [
              "        text_id  ... task_3\n",
              "0  hasoc_en_902  ...   NONE\n",
              "1  hasoc_en_416  ...   NONE\n",
              "2  hasoc_en_207  ...   NONE\n",
              "3  hasoc_en_595  ...   NONE\n",
              "4  hasoc_en_568  ...    UNT\n",
              "\n",
              "[5 rows x 5 columns]"
            ]
          },
          "metadata": {
            "tags": []
          },
          "execution_count": 5
        }
      ]
    },
    {
      "cell_type": "code",
      "metadata": {
        "id": "QB7qJJgXvuHz",
        "colab": {
          "base_uri": "https://localhost:8080/"
        },
        "outputId": "858b2591-cb73-4617-b814-2b9a18105c76"
      },
      "source": [
        "#Preview some Test tweets before processing\n",
        "a = 0 \n",
        "for i in range(a,a+10):\n",
        "    print(test[\"text\"][i])\n",
        "    print()"
      ],
      "execution_count": null,
      "outputs": [
        {
          "output_type": "stream",
          "text": [
            "West Bengal Doctor Crisis: Protesting doctors agree to meet Mamata Banerjee in presence of full media even as IMA goes on strike  \n",
            "\n",
            "68.5 million people have been forced to leave their homes.      Read more: https://wef.ch/2YQcwpk  #refugees #society\n",
            "\n",
            "You came, you saw .... we will look after the fort! Good luck! \n",
            "\n",
            "We'll get Brexit delivered by October 31st.    Help build the movement that will do it  http://conservatives.com/join     #BackBoris @BorisJohnson\n",
            "\n",
            "Fuck you. Go back to the dark ages you cow @IBNLiveRealtime: Rapes happen because men and women interact freely: Mamata\n",
            "\n",
            "Boris Johnson faces Supreme Court bid to make him stand trial for ‘lying and misleading’ in Brexit campaign https://www.independent.co.uk/news/uk/crime/boris-johnson-brexit-supreme-court-vote-leave-nhs-bus-trial-appeal-a9029506.html …\n",
            "\n",
            "What about a refund for not serving Halala to Muslims and regularly adding Onions to Jain food !! Does Food not carries a religion here ??\n",
            "\n",
            "General election, DUP dumped out, Tory power weakened. The only way out\n",
            "\n",
            "#Repost free.wicked  • • • • • •  #freewicked #freethekids #terrorist #Americanterrorist #fucktrump #donaldtrump #fuckdonaldtrump #notothewall #nowall #ak47 #shooting #justiceforthekids #nomoregunviolence #gunviolence… https://www.instagram.com/p/B0lX5FzBnU7/?igshid=1joy9r96lwwg7 …\n",
            "\n",
            "Jesus Christ Christian News. Illuminati is now changing Bible into gay comedy book: God having bestiality sex, Peter running around naked, King David bowing Muslim way to gay lover Johnathan, 'wink mark' after incest verse, Jesus wearing girdle, men's milk https://www.youtube.com/watch?v=GhUsioGcknM … pic.twitter.com/SNcTq321bj\n",
            "\n"
          ],
          "name": "stdout"
        }
      ]
    },
    {
      "cell_type": "code",
      "metadata": {
        "id": "DdA56CcTs9Jg"
      },
      "source": [
        "def words(text, stem_words=False):\n",
        "    #Remove emojis \n",
        "    emoji_pattern = re.compile(\"[\"\n",
        "    u\"\\U0001F600-\\U0001F64F\"  # emoticons\n",
        "    u\"\\U0001F300-\\U0001F5FF\"  # symbols & pictographs\n",
        "    u\"\\U0001F680-\\U0001F6FF\"  # transport & map symbols\n",
        "    u\"\\U0001F1E0-\\U0001F1FF\"  # flags (iOS)\n",
        "    u\"\\U00002500-\\U00002BEF\"  # chinese char\n",
        "    u\"\\U00002702-\\U000027B0\"\n",
        "    u\"\\U00002702-\\U000027B0\"\n",
        "    u\"\\U000024C2-\\U0001F251\"\n",
        "    u\"\\U0001f926-\\U0001f937\"\n",
        "    u\"\\U00010000-\\U0010ffff\"\n",
        "    u\"\\u2640-\\u2642\"\n",
        "    u\"\\u2600-\\u2B55\"\n",
        "    u\"\\u200d\"\n",
        "    u\"\\u23cf\"\n",
        "    u\"\\u23e9\"\n",
        "    u\"\\u231a\"\n",
        "    u\"\\ufe0f\"  # dingbats\n",
        "    u\"\\u3030\"\n",
        "    \"]+\", flags=re.UNICODE)\n",
        "    \n",
        "    text = emoji_pattern.sub(r'', text) # No emoji\n",
        "    text = re.sub(r'http\\S+', '', text) # Remove urls\n",
        "    text = re.sub(r'pic.twitter\\S+', '', text)\n",
        "    # Lowering the words in Tweets\n",
        "    text = text.lower()\n",
        "    # Remove punctuation from Tweets\n",
        "    text = ''.join([c for c in text if c not in punctuation])\n",
        "    #Use filter and lambda to remove numeric digits from string\n",
        "    res = \"\".join(filter(lambda x: not x.isdigit(), text))\n",
        "    text = str(res)\n",
        "    #remove leading and ending spaces\n",
        "    text = text.strip()\n",
        "    # Return a list of words\n",
        "    return(text)\n",
        "\n",
        "#preprocessing all of the each tweets\n",
        "def process(tweet_list, tweets):\n",
        "    for tweet in tweets:\n",
        "        tweet_list.append(words(tweet))\n",
        "\n",
        "#tokenized the tweets\n",
        "def tokenize(tweet_list, tweets):\n",
        "    for tweet in tweets:\n",
        "        tokens = re.findall(\"[\\w]+\", tweet)\n",
        "        tweet_list.append(tokens)"
      ],
      "execution_count": null,
      "outputs": []
    },
    {
      "cell_type": "code",
      "metadata": {
        "id": "A7OPTjnas0u3",
        "colab": {
          "base_uri": "https://localhost:8080/"
        },
        "outputId": "015b3ad0-dd62-4792-e99e-7a9e2522dc67"
      },
      "source": [
        "#Processing training and test set\n",
        "processed_tweet1 = []\n",
        "processed_tweet2 = []\n",
        "process(processed_tweet1, training[\"text\"])\n",
        "process(processed_tweet2, test[\"text\"])\n",
        "\n",
        "#Preview some test tweets after processing\n",
        "a = 0 \n",
        "for i in range(a,a+10):\n",
        "    print(processed_tweet2[i])\n",
        "    print()"
      ],
      "execution_count": null,
      "outputs": [
        {
          "output_type": "stream",
          "text": [
            "west bengal doctor crisis protesting doctors agree to meet mamata banerjee in presence of full media even as ima goes on strike\n",
            "\n",
            "million people have been forced to leave their homes      read more   refugees society\n",
            "\n",
            "you came you saw  we will look after the fort good luck\n",
            "\n",
            "well get brexit delivered by october st    help build the movement that will do it       backboris borisjohnson\n",
            "\n",
            "fuck you go back to the dark ages you cow ibnliverealtime rapes happen because men and women interact freely mamata\n",
            "\n",
            "boris johnson faces supreme court bid to make him stand trial for ‘lying and misleading’ in brexit campaign  …\n",
            "\n",
            "what about a refund for not serving halala to muslims and regularly adding onions to jain food  does food not carries a religion here\n",
            "\n",
            "general election dup dumped out tory power weakened the only way out\n",
            "\n",
            "repost freewicked  • • • • • •  freewicked freethekids terrorist americanterrorist fucktrump donaldtrump fuckdonaldtrump notothewall nowall ak shooting justiceforthekids nomoregunviolence gunviolence…  …\n",
            "\n",
            "jesus christ christian news illuminati is now changing bible into gay comedy book god having bestiality sex peter running around naked king david bowing muslim way to gay lover johnathan wink mark after incest verse jesus wearing girdle mens milk  …\n",
            "\n"
          ],
          "name": "stdout"
        }
      ]
    },
    {
      "cell_type": "code",
      "metadata": {
        "id": "iGujMqx1uyRF",
        "colab": {
          "base_uri": "https://localhost:8080/"
        },
        "outputId": "24d2f6ba-cb91-4fc7-80e6-c955e3d92c17"
      },
      "source": [
        "tokenized_tweet1 = []\n",
        "tokenized_tweet2 = []\n",
        "tokenize(tokenized_tweet1, processed_tweet1)\n",
        "tokenize(tokenized_tweet2, processed_tweet2)\n",
        "\n",
        "#Preview some test tweets after tokenization\n",
        "a = 0 \n",
        "for i in range(a,a+10):\n",
        "    print(tokenized_tweet2[i])\n",
        "    print()"
      ],
      "execution_count": null,
      "outputs": [
        {
          "output_type": "stream",
          "text": [
            "['west', 'bengal', 'doctor', 'crisis', 'protesting', 'doctors', 'agree', 'to', 'meet', 'mamata', 'banerjee', 'in', 'presence', 'of', 'full', 'media', 'even', 'as', 'ima', 'goes', 'on', 'strike']\n",
            "\n",
            "['million', 'people', 'have', 'been', 'forced', 'to', 'leave', 'their', 'homes', 'read', 'more', 'refugees', 'society']\n",
            "\n",
            "['you', 'came', 'you', 'saw', 'we', 'will', 'look', 'after', 'the', 'fort', 'good', 'luck']\n",
            "\n",
            "['well', 'get', 'brexit', 'delivered', 'by', 'october', 'st', 'help', 'build', 'the', 'movement', 'that', 'will', 'do', 'it', 'backboris', 'borisjohnson']\n",
            "\n",
            "['fuck', 'you', 'go', 'back', 'to', 'the', 'dark', 'ages', 'you', 'cow', 'ibnliverealtime', 'rapes', 'happen', 'because', 'men', 'and', 'women', 'interact', 'freely', 'mamata']\n",
            "\n",
            "['boris', 'johnson', 'faces', 'supreme', 'court', 'bid', 'to', 'make', 'him', 'stand', 'trial', 'for', 'lying', 'and', 'misleading', 'in', 'brexit', 'campaign']\n",
            "\n",
            "['what', 'about', 'a', 'refund', 'for', 'not', 'serving', 'halala', 'to', 'muslims', 'and', 'regularly', 'adding', 'onions', 'to', 'jain', 'food', 'does', 'food', 'not', 'carries', 'a', 'religion', 'here']\n",
            "\n",
            "['general', 'election', 'dup', 'dumped', 'out', 'tory', 'power', 'weakened', 'the', 'only', 'way', 'out']\n",
            "\n",
            "['repost', 'freewicked', 'freewicked', 'freethekids', 'terrorist', 'americanterrorist', 'fucktrump', 'donaldtrump', 'fuckdonaldtrump', 'notothewall', 'nowall', 'ak', 'shooting', 'justiceforthekids', 'nomoregunviolence', 'gunviolence']\n",
            "\n",
            "['jesus', 'christ', 'christian', 'news', 'illuminati', 'is', 'now', 'changing', 'bible', 'into', 'gay', 'comedy', 'book', 'god', 'having', 'bestiality', 'sex', 'peter', 'running', 'around', 'naked', 'king', 'david', 'bowing', 'muslim', 'way', 'to', 'gay', 'lover', 'johnathan', 'wink', 'mark', 'after', 'incest', 'verse', 'jesus', 'wearing', 'girdle', 'mens', 'milk']\n",
            "\n"
          ],
          "name": "stdout"
        }
      ]
    },
    {
      "cell_type": "markdown",
      "metadata": {
        "id": "_qTKnEvOzG0W"
      },
      "source": [
        "# TFIDF Vectorizer"
      ]
    },
    {
      "cell_type": "markdown",
      "metadata": {
        "id": "IkSrGAkGWPeV"
      },
      "source": [
        ""
      ]
    },
    {
      "cell_type": "code",
      "metadata": {
        "id": "S5BXuWKByNEM"
      },
      "source": [
        "def dummy_fun(tokenized_tweet1):\n",
        "    return tokenized_tweet1"
      ],
      "execution_count": null,
      "outputs": []
    },
    {
      "cell_type": "code",
      "metadata": {
        "id": "MuO0Fezrts1g"
      },
      "source": [
        "from sklearn.feature_extraction.text import TfidfVectorizer\n",
        "tfidf = TfidfVectorizer(analyzer = 'word',\n",
        "                        tokenizer=dummy_fun,\n",
        "                        preprocessor=dummy_fun,\n",
        "                        lowercase = True,\n",
        "                        max_features = 100,\n",
        "                        strip_accents='unicode',\n",
        "                        norm = 'l2')"
      ],
      "execution_count": null,
      "outputs": []
    },
    {
      "cell_type": "code",
      "metadata": {
        "id": "64_JIxlfzTPw",
        "colab": {
          "base_uri": "https://localhost:8080/"
        },
        "outputId": "42766ccc-254e-43bd-cbac-66b9136691f9"
      },
      "source": [
        "#training set\n",
        "tfidf1=tfidf.fit(tokenized_tweet1)\n",
        "transformed_tweets = tfidf1.transform(tokenized_tweet1)\n",
        "\n",
        "#test set \n",
        "transformed_tweets2 = tfidf.transform(tokenized_tweet2)\n",
        "\n",
        "#Assigning independent and dependent variables for training set\n",
        "x = transformed_tweets\n",
        "y = training['task_1']\n",
        "\n",
        "#Assigning independent and dependent variables for test set\n",
        "x1 = transformed_tweets2\n",
        "y1 = test['task_1']\n",
        "\n",
        "#Organizing variables into train and test set\n",
        "x_train = x\n",
        "y_train = y\n",
        "x_test = x1\n",
        "y_test = y1"
      ],
      "execution_count": null,
      "outputs": [
        {
          "output_type": "stream",
          "text": [
            "/usr/local/lib/python3.7/dist-packages/sklearn/feature_extraction/text.py:507: UserWarning: The parameter 'token_pattern' will not be used since 'tokenizer' is not None'\n",
            "  warnings.warn(\"The parameter 'token_pattern' will not be used\"\n"
          ],
          "name": "stderr"
        }
      ]
    },
    {
      "cell_type": "markdown",
      "metadata": {
        "id": "UoVYCgHmzj_R"
      },
      "source": [
        "# SVM (Linear SVM)"
      ]
    },
    {
      "cell_type": "code",
      "metadata": {
        "id": "l9e1FqJMznPb",
        "colab": {
          "base_uri": "https://localhost:8080/"
        },
        "outputId": "6cc2e8fe-d5e6-4d1f-acb2-d1a214c63ab9"
      },
      "source": [
        "#predict using Support Vector Machines\n",
        "\n",
        "from sklearn.svm import LinearSVC\n",
        "\n",
        "svm = LinearSVC(tol=1e-5)\n",
        "#Fit the model according to the given training data\n",
        "svm.fit(x_train, y_train)\n",
        "\n",
        "#Predicting the test results\n",
        "y_pred = svm.predict(x_test)\n",
        "\n",
        "from sklearn.metrics import classification_report\n",
        "print(classification_report(y_test, y_pred,labels=[1,0]))"
      ],
      "execution_count": null,
      "outputs": [
        {
          "output_type": "stream",
          "text": [
            "              precision    recall  f1-score   support\n",
            "\n",
            "           1       0.35      0.48      0.41       288\n",
            "           0       0.80      0.70      0.75       865\n",
            "\n",
            "    accuracy                           0.65      1153\n",
            "   macro avg       0.58      0.59      0.58      1153\n",
            "weighted avg       0.69      0.65      0.66      1153\n",
            "\n"
          ],
          "name": "stdout"
        }
      ]
    },
    {
      "cell_type": "markdown",
      "metadata": {
        "id": "kf6CmP79aCuh"
      },
      "source": [
        "# Logistic Regression \n"
      ]
    },
    {
      "cell_type": "code",
      "metadata": {
        "id": "X0g5hqR7abmW",
        "colab": {
          "base_uri": "https://localhost:8080/"
        },
        "outputId": "4b74387a-7c2b-4e18-ce3c-e89eac68592a"
      },
      "source": [
        "#predict using Logistic Regression \n",
        "from sklearn.linear_model import LogisticRegression\n",
        "\n",
        "lr = LogisticRegression()\n",
        "#Fit the model according to the given training data\n",
        "lr.fit(x_train, y_train)\n",
        "\n",
        "#Predicting the test results\n",
        "y_pred_logic = lr.predict(x_test)\n",
        "\n",
        "from sklearn.metrics import classification_report\n",
        "print(classification_report(y_test, y_pred_logic,labels=[1,0]))"
      ],
      "execution_count": null,
      "outputs": [
        {
          "output_type": "stream",
          "text": [
            "              precision    recall  f1-score   support\n",
            "\n",
            "           1       0.36      0.46      0.41       288\n",
            "           0       0.80      0.73      0.76       865\n",
            "\n",
            "    accuracy                           0.66      1153\n",
            "   macro avg       0.58      0.60      0.59      1153\n",
            "weighted avg       0.69      0.66      0.67      1153\n",
            "\n"
          ],
          "name": "stdout"
        }
      ]
    },
    {
      "cell_type": "markdown",
      "metadata": {
        "id": "AKp7FPG2IXgn"
      },
      "source": [
        "# MLP"
      ]
    },
    {
      "cell_type": "code",
      "metadata": {
        "colab": {
          "base_uri": "https://localhost:8080/"
        },
        "id": "DQRo7TegIP-C",
        "outputId": "2d81f4b0-e631-4963-e7fe-8ffa878dbaa5"
      },
      "source": [
        "#predict using MLP\n",
        "from sklearn.neural_network import MLPClassifier\n",
        "\n",
        "mlp = MLPClassifier(max_iter=300)\n",
        "mlp.fit(x_train, y_train)\n",
        "\n",
        "#Predicting the test results\n",
        "y_pred_mlp= mlp.predict(x_test)\n",
        "\n",
        "from sklearn.metrics import classification_report\n",
        "print(classification_report(y_test, y_pred_mlp,labels=[1,0]))"
      ],
      "execution_count": null,
      "outputs": [
        {
          "output_type": "stream",
          "text": [
            "              precision    recall  f1-score   support\n",
            "\n",
            "           1       0.28      0.49      0.35       288\n",
            "           0       0.77      0.58      0.66       865\n",
            "\n",
            "    accuracy                           0.56      1153\n",
            "   macro avg       0.53      0.53      0.51      1153\n",
            "weighted avg       0.65      0.56      0.59      1153\n",
            "\n"
          ],
          "name": "stdout"
        },
        {
          "output_type": "stream",
          "text": [
            "/usr/local/lib/python3.7/dist-packages/sklearn/neural_network/_multilayer_perceptron.py:571: ConvergenceWarning: Stochastic Optimizer: Maximum iterations (300) reached and the optimization hasn't converged yet.\n",
            "  % self.max_iter, ConvergenceWarning)\n"
          ],
          "name": "stderr"
        }
      ]
    },
    {
      "cell_type": "markdown",
      "metadata": {
        "id": "AX55VWkH7l6-"
      },
      "source": [
        "# CNN"
      ]
    },
    {
      "cell_type": "code",
      "metadata": {
        "id": "GCA94Rth7rBC"
      },
      "source": [
        "from pandas import DataFrame\n",
        "#training set\n",
        "df0 = DataFrame(processed_tweet1,columns=['text'])\n",
        "#test set\n",
        "df00 = DataFrame(processed_tweet2,columns=['text'])"
      ],
      "execution_count": null,
      "outputs": []
    },
    {
      "cell_type": "code",
      "metadata": {
        "id": "_NeQxatg7x3f"
      },
      "source": [
        "from numpy import array\n",
        "from keras.preprocessing.text import Tokenizer\n",
        "from keras.preprocessing.sequence import pad_sequences\n",
        "from keras.models import Model\n",
        "from keras.layers import Input\n",
        "from keras.layers import Dense\n",
        "from keras.layers import Flatten\n",
        "from keras.layers import Dropout\n",
        "from keras.layers import Embedding\n",
        "from keras.layers.convolutional import Conv1D\n",
        "from keras.layers.convolutional import MaxPooling1D\n",
        "from keras.layers.merge import concatenate\n",
        "from keras.models import Sequential\n",
        "\n",
        "# fit a tokenizer\n",
        "def create_tokenizer(lines):\n",
        "    tokenizer = Tokenizer()\n",
        "    tokenizer.fit_on_texts(lines)\n",
        "    return tokenizer\n",
        " \n",
        "# calculate the maximum document length\n",
        "def max_length(lines):\n",
        "    return max([len(s.split()) for s in lines])\n",
        " \n",
        "# encode a list of lines\n",
        "def encode_text(tokenizer, lines, length):\n",
        "    # integer encode\n",
        "    encoded = tokenizer.texts_to_sequences(lines)\n",
        "    # pad encoded sequences\n",
        "    padded = pad_sequences(encoded, maxlen=length, padding='post')\n",
        "    return padded\n",
        " \n",
        "# define the model\n",
        "def define_model(length, vocab_size):\n",
        "    # channel 1\n",
        "    model = Sequential()\n",
        "    model.add(Embedding(vocab_size, 100,input_shape=(length,)))\n",
        "    model.add(Conv1D(filters=32, kernel_size=4, activation='relu'))\n",
        "    model.add(Dropout(0.5))\n",
        "    model.add(MaxPooling1D(pool_size=2))\n",
        "    model.add(Flatten())\n",
        "    # interpretation\n",
        "    model.add(Dense(1, activation='sigmoid')) \n",
        "    # compile\n",
        "    model.compile(loss='binary_crossentropy', optimizer='adam', metrics=['accuracy'])\n",
        "    # summarize\n",
        "    print(model.summary())\n",
        "    return model"
      ],
      "execution_count": null,
      "outputs": []
    },
    {
      "cell_type": "code",
      "metadata": {
        "id": "2-gsThWk7z8F",
        "colab": {
          "base_uri": "https://localhost:8080/"
        },
        "outputId": "82cc781b-5254-4c0f-fd8b-604435a9bc3d"
      },
      "source": [
        "from sklearn.model_selection import train_test_split\n",
        "\n",
        "# Organize  dataset\n",
        "x_train = df0['text']\n",
        "y_train = training['task_1']\n",
        "x_test = df00['text']\n",
        "y_test = test['task_1']\n",
        "\n",
        "# create tokenizer\n",
        "tokenizer = create_tokenizer(x_train)\n",
        "# calculate max document length\n",
        "length = max_length(x_train)\n",
        "# calculate vocabulary size\n",
        "vocab_size = len(tokenizer.word_index) + 1\n",
        "print('Max document length: %d' % length)\n",
        "print('Vocabulary size: %d' % vocab_size)\n",
        "# encode data\n",
        "trainX = encode_text(tokenizer, x_train, length)\n",
        "testX = encode_text(tokenizer, x_test, length)\n",
        "\n",
        "print(trainX.shape,testX.shape)\n",
        " \n",
        "# define model\n",
        "model = define_model(length, vocab_size)"
      ],
      "execution_count": null,
      "outputs": [
        {
          "output_type": "stream",
          "text": [
            "Max document length: 92\n",
            "Vocabulary size: 17914\n",
            "(5852, 92) (1153, 92)\n",
            "Model: \"sequential\"\n",
            "_________________________________________________________________\n",
            "Layer (type)                 Output Shape              Param #   \n",
            "=================================================================\n",
            "embedding (Embedding)        (None, 92, 100)           1791400   \n",
            "_________________________________________________________________\n",
            "conv1d (Conv1D)              (None, 89, 32)            12832     \n",
            "_________________________________________________________________\n",
            "dropout (Dropout)            (None, 89, 32)            0         \n",
            "_________________________________________________________________\n",
            "max_pooling1d (MaxPooling1D) (None, 44, 32)            0         \n",
            "_________________________________________________________________\n",
            "flatten (Flatten)            (None, 1408)              0         \n",
            "_________________________________________________________________\n",
            "dense (Dense)                (None, 1)                 1409      \n",
            "=================================================================\n",
            "Total params: 1,805,641\n",
            "Trainable params: 1,805,641\n",
            "Non-trainable params: 0\n",
            "_________________________________________________________________\n",
            "None\n"
          ],
          "name": "stdout"
        }
      ]
    },
    {
      "cell_type": "code",
      "metadata": {
        "id": "Wnsi-iHu7_la",
        "colab": {
          "base_uri": "https://localhost:8080/"
        },
        "outputId": "565e3da3-90f8-472c-a7c4-dfdd0c529179"
      },
      "source": [
        "# fit model\n",
        "results = model.fit(trainX, array(y_train), epochs=6, batch_size=32, verbose=1,validation_data=(testX, array(y_test)))"
      ],
      "execution_count": null,
      "outputs": [
        {
          "output_type": "stream",
          "text": [
            "Epoch 1/6\n",
            "183/183 [==============================] - 7s 37ms/step - loss: 0.0198 - accuracy: 0.9925 - val_loss: 0.8702 - val_accuracy: 0.6800\n",
            "Epoch 2/6\n",
            "183/183 [==============================] - 7s 37ms/step - loss: 0.0186 - accuracy: 0.9920 - val_loss: 0.8731 - val_accuracy: 0.6860\n",
            "Epoch 3/6\n",
            "183/183 [==============================] - 7s 37ms/step - loss: 0.0174 - accuracy: 0.9913 - val_loss: 0.8903 - val_accuracy: 0.6869\n",
            "Epoch 4/6\n",
            "183/183 [==============================] - 7s 37ms/step - loss: 0.0169 - accuracy: 0.9918 - val_loss: 0.9199 - val_accuracy: 0.6808\n",
            "Epoch 5/6\n",
            "183/183 [==============================] - 7s 37ms/step - loss: 0.0176 - accuracy: 0.9921 - val_loss: 0.9058 - val_accuracy: 0.6852\n",
            "Epoch 6/6\n",
            "183/183 [==============================] - 7s 37ms/step - loss: 0.0155 - accuracy: 0.9916 - val_loss: 0.9114 - val_accuracy: 0.6886\n"
          ],
          "name": "stdout"
        }
      ]
    },
    {
      "cell_type": "code",
      "metadata": {
        "id": "UThaz0gG8IsN",
        "colab": {
          "base_uri": "https://localhost:8080/"
        },
        "outputId": "cdcb855e-55c7-4d6c-c322-aec060a4f6aa"
      },
      "source": [
        "pred = model.predict_classes(testX)\n",
        "print(classification_report(y_test,pred,labels=[1,0]))"
      ],
      "execution_count": null,
      "outputs": [
        {
          "output_type": "stream",
          "text": [
            "              precision    recall  f1-score   support\n",
            "\n",
            "           1       0.40      0.51      0.45       288\n",
            "           0       0.82      0.75      0.78       865\n",
            "\n",
            "    accuracy                           0.69      1153\n",
            "   macro avg       0.61      0.63      0.62      1153\n",
            "weighted avg       0.72      0.69      0.70      1153\n",
            "\n"
          ],
          "name": "stdout"
        },
        {
          "output_type": "stream",
          "text": [
            "/usr/local/lib/python3.7/dist-packages/keras/engine/sequential.py:450: UserWarning: `model.predict_classes()` is deprecated and will be removed after 2021-01-01. Please use instead:* `np.argmax(model.predict(x), axis=-1)`,   if your model does multi-class classification   (e.g. if it uses a `softmax` last-layer activation).* `(model.predict(x) > 0.5).astype(\"int32\")`,   if your model does binary classification   (e.g. if it uses a `sigmoid` last-layer activation).\n",
            "  warnings.warn('`model.predict_classes()` is deprecated and '\n"
          ],
          "name": "stderr"
        }
      ]
    }
  ]
}